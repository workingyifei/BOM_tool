{
 "cells": [
  {
   "cell_type": "markdown",
   "metadata": {},
   "source": [
    "## The script below creates a Supply Chain BOM based on Enginerring BOM using data from a out-dated supply chain BOM. It also enables the supply chain BOM to sync with the Engineering BOM. Developed by yifei.li@byton.com"
   ]
  },
  {
   "cell_type": "code",
   "execution_count": null,
   "metadata": {},
   "outputs": [],
   "source": [
    "import pandas as pd\n",
    "import numpy as np\n",
    "import xlrd, openpyxl\n",
    "import csv, datetime"
   ]
  },
  {
   "cell_type": "markdown",
   "metadata": {},
   "source": [
    "## Load EBOM, Chi's Supply Chain BOM and Shaolong's BOM"
   ]
  },
  {
   "cell_type": "code",
   "execution_count": null,
   "metadata": {
    "scrolled": false
   },
   "outputs": [],
   "source": [
    "#Engineering BOM (EBOM). Updated weekly and has the most up-to-date Part Number and Revision. \n",
    "#Supply Chain BOM is based on EBOM with additional sourcing and supplier quality information.\n",
    "\n",
    "EBOM = pd.read_excel(\"/home/yifei/Documents/BOM_tool/EBOM 8.23.18.xlsx\")\n",
    "# new_header = EBOM.iloc[0]\n",
    "# EBOM = EBOM[1:]\n",
    "# EBOM.columns = new_header\n",
    "EBOM.columns = EBOM.columns.str.replace(\"\\(R\\)\\ \", \"\") # trim (R) away from the header\n",
    "print(\"Engineering VP BOM Shape: \",EBOM.shape)\n",
    "EBOM.head(5)\n",
    "# print(EBOM.columns.values)\n",
    "# EBOM.shape\n",
    "\n",
    "\n",
    "\n"
   ]
  },
  {
   "cell_type": "code",
   "execution_count": null,
   "metadata": {
    "scrolled": true
   },
   "outputs": [],
   "source": [
    "print(EBOM.columns.values)"
   ]
  },
  {
   "cell_type": "markdown",
   "metadata": {},
   "source": [
    "Removing Phantom part and Fasterners and filter only \"Buy\" part leaves us 1461 Unique PNs"
   ]
  },
  {
   "cell_type": "code",
   "execution_count": null,
   "metadata": {},
   "outputs": [],
   "source": [
    "EBOM_filtered = EBOM[(EBOM[\"Purchased Part Type\"]==\"Buy\") & (EBOM[\"Part Type\"]!=\"Phantom\") & (EBOM[\"System\"]!=\"Y Fasteners\")]\n",
    "print(EBOM_filtered.shape)\n"
   ]
  },
  {
   "cell_type": "code",
   "execution_count": null,
   "metadata": {
    "scrolled": true
   },
   "outputs": [],
   "source": [
    "#Chi's SCBOM. We need the column names from Chi's SCBOM\n",
    "SCBOM_chi = pd.read_excel(\"/home/yifei/Documents/BOM_tool/SCBOM.xlsx\")\n",
    "print(\"Supply Chain BOM Shape: \",SCBOM_chi.shape)\n",
    "SCBOM_chi.head(20)\n"
   ]
  },
  {
   "cell_type": "code",
   "execution_count": null,
   "metadata": {},
   "outputs": [],
   "source": [
    "SCBOM_chi.columns"
   ]
  },
  {
   "cell_type": "code",
   "execution_count": null,
   "metadata": {},
   "outputs": [],
   "source": [
    "PreAP_BOM_chi = SCBOM_chi[SCBOM_chi[\"Program\"]==\"PAP\"]\n",
    "print(\"Pre AP BOM shape: \", PreAP_BOM_chi.shape)\n",
    "AP_BOM_chi = SCBOM_chi[SCBOM_chi[\"Program\"]==\"AP\"]\n",
    "print(\"AP BOM shape: \", AP_BOM_chi.shape)\n",
    "VP_BOM_chi = SCBOM_chi[SCBOM_chi[\"Program\"]==\"VP\"]\n",
    "print(\"VP BOM shape: \", VP_BOM_chi.shape)\n",
    "\n",
    "#Active VP BOM with latest part revision\n",
    "VP_BOM_Activate_chi = VP_BOM_chi[(VP_BOM_chi[\"PartActive\"]==\"Active\")]\n",
    "print(\"VP Active BOM: \", VP_BOM_Activate_chi.shape)\n",
    "\n",
    "VPM_BOM_Activate_chi_removePhantomPart = VP_BOM_Activate_chi[VP_BOM_Activate_chi[\"Type\"]!=\"Phantom\"]\n",
    "print(\"removed phatom\", VPM_BOM_Activate_chi_removePhantomPart.shape)\n",
    "\n",
    "                                                   \n"
   ]
  },
  {
   "cell_type": "code",
   "execution_count": null,
   "metadata": {
    "scrolled": true
   },
   "outputs": [],
   "source": [
    "#Load shaolong's SC BOM which has the most sourcing information updated by buyers and SQEs. \n",
    "SCBOM_shaolong = pd.read_excel(\"/home/yifei/Documents/BOM_tool/Shaolong BOM.xlsx\", index_col=None)\n",
    "# SCBOM_shaolong.reset_index()\n",
    "SCBOM_shaolong"
   ]
  },
  {
   "cell_type": "code",
   "execution_count": null,
   "metadata": {},
   "outputs": [],
   "source": [
    "SCBOM_shaolong.columns.values"
   ]
  },
  {
   "cell_type": "code",
   "execution_count": null,
   "metadata": {},
   "outputs": [],
   "source": [
    "print(\"Supply Chain BOM Shape: \",SCBOM_shaolong.shape)"
   ]
  },
  {
   "cell_type": "markdown",
   "metadata": {},
   "source": [
    "## Step 0: Create a blank Supply Chain BOM using EBOM"
   ]
  },
  {
   "cell_type": "code",
   "execution_count": null,
   "metadata": {},
   "outputs": [],
   "source": [
    "# copy EBOM to the new SCBOM\n",
    "print(\"EBOM shape is: \", EBOM.shape)\n",
    "SCBOM = EBOM.copy()\n",
    "print(\"SCBOM shape is: \", SCBOM.shape)\n",
    "#specify SCBOM columns\n",
    "SCBOM.columns.values"
   ]
  },
  {
   "cell_type": "code",
   "execution_count": null,
   "metadata": {},
   "outputs": [],
   "source": [
    "ebom_column_header = EBOM.columns.values\n",
    "\n",
    "sourcing_column_header = [\"Supplier Name\", \"Supplier Contact Person\", \"Supplier Contact Email\",\n",
    "                          \"Supplier Manufacturing Location\", \"GSM\", \"GSM Manager\", \"Engineer\", \n",
    "                          \"Engineer Manager\", \"RFQ Sent\", \"RFQ Received\", \"LOI Received\", \n",
    "                          \"Sourcing Council Scheduled Date\", \"SourcingCouncilAprovedDate\", \n",
    "                          \"DSA\", \"GTC\", \"Award Letter\", \"Purchae Requisition\", \"Purchase Order\",\n",
    "                          \"Sourcing Status\",]\n",
    "\n",
    "logistics_column_header = [\"First Pickup Date\", \"Last Pickup Date\", \"CCC Required\", \"Piece Cost\", \n",
    "                           \"Custom Compliance Completed\", \"Packaging Proposal Approved\"]\n",
    "\n",
    "quality_column_header = [\"SQE\", \"Priority\", \"APQP Kick Off\", \"APQP Status\",\"Tooling Lead Time\", \n",
    "                     \"Tooling Kick Off Date\", \"Tooling Completion Date\", \"Home Line\", \"FTN\", \n",
    "                     \"Grain\", \"AAR\", \"Run At Rate\", \"PV Completion Date\", \"Phase 1 PSW Date\", \n",
    "                     \"Phase 3 PSW Date\", \"Comments\"]\n",
    "\n",
    "log_column_header = [\"Engineering Release Estimtae\", \"Engineering Release Actual\", \"Assembly Station\", \n",
    "                     \"Maturity\", \"Configuration\", \"Part Creation Date\", \"Last Modified Date\", \"Part Status\", \n",
    "                     \"Part Active\"]\n",
    "\n",
    "column_header = sourcing_column_header + logistics_column_header + quality_column_header + log_column_header"
   ]
  },
  {
   "cell_type": "code",
   "execution_count": null,
   "metadata": {},
   "outputs": [],
   "source": [
    "# add additional columns\n",
    "def add_columns(df, columns):\n",
    "    df2 = pd.DataFrame(columns=columns)\n",
    "    df = df.append(df2, sort=False, verify_integrity=True)\n",
    "    return df"
   ]
  },
  {
   "cell_type": "code",
   "execution_count": null,
   "metadata": {},
   "outputs": [],
   "source": [
    "SCBOM = add_columns(SCBOM, column_header)\n",
    "SCBOM.shape"
   ]
  },
  {
   "cell_type": "markdown",
   "metadata": {},
   "source": [
    "## Step 1: Update new SCBOM using Shaolong's BOM"
   ]
  },
  {
   "cell_type": "code",
   "execution_count": null,
   "metadata": {
    "scrolled": true
   },
   "outputs": [],
   "source": [
    "df = pd.DataFrame({'BoolCol': [True, False, False, True, True], 'Name': [1,2,3,4,5]},\n",
    "       index=[10,20,30,40,50])\n",
    "idx = df.index[df['BoolCol']]\n",
    "idx"
   ]
  },
  {
   "cell_type": "code",
   "execution_count": null,
   "metadata": {},
   "outputs": [],
   "source": [
    "df.loc[idx[0]][\"Name\"]"
   ]
  },
  {
   "cell_type": "code",
   "execution_count": null,
   "metadata": {},
   "outputs": [],
   "source": [
    "df"
   ]
  },
  {
   "cell_type": "code",
   "execution_count": null,
   "metadata": {},
   "outputs": [],
   "source": [
    "df.loc[(df[\"Name\"]==2) & (df[\"BoolCol\"]==False)].index.values"
   ]
  },
  {
   "cell_type": "code",
   "execution_count": null,
   "metadata": {},
   "outputs": [],
   "source": [
    "df.loc[[10], [\"Name\"]] = df.loc[[20], 'Name'].values\n",
    "df"
   ]
  },
  {
   "cell_type": "code",
   "execution_count": null,
   "metadata": {},
   "outputs": [],
   "source": [
    "# save dataframe to Excel\n",
    "def save(df):\n",
    "    #https://stackoverflow.com/questions/28837057/pandas-writing-an-excel-file-containing-unicode-illegalcharactererror\n",
    "    df = df.applymap(lambda x: x.encode('unicode_escape').\n",
    "                 decode('utf-8') if isinstance(x, str) else x)\n",
    "\n",
    "    writer = pd.ExcelWriter('Supply Chain BOM.xlsx')\n",
    "    df.to_excel(writer, sheet_name=\"Supply Chain BOM\", na_rep=\"\" )\n",
    "    writer.save()\n",
    "\n",
    "#     df.to_csv(\"Supply Chain BOM.csv\",quoting=csv.QUOTE_NONE, escapechar=\"\\\\\")"
   ]
  },
  {
   "cell_type": "code",
   "execution_count": null,
   "metadata": {},
   "outputs": [],
   "source": [
    "# search PN and Rev in shaolong's SCBOM\n",
    "def search(PN):\n",
    "    # shaolong's data doesn't have Rev.\n",
    "#     df = SCBOM_shaolong.loc[(SCBOM_shaolong[\"BYTON P/N\"]==PN) & (SCBOM_shaolong[\"BYTON REVISION\"]==Rev)]\n",
    "    df = SCBOM_shaolong.loc[(SCBOM_shaolong[\"BYTON P/N\"]==PN)]\n",
    "    index = df.index\n",
    "    if (len(index)==1):\n",
    "        return index\n",
    "    else:\n",
    "        #return the first index if duplicate PN found\n",
    "        return index[0:1]\n",
    "        "
   ]
  },
  {
   "cell_type": "code",
   "execution_count": null,
   "metadata": {},
   "outputs": [],
   "source": [
    "print(search(\"AA-AF003416NN-00\"))"
   ]
  },
  {
   "cell_type": "code",
   "execution_count": null,
   "metadata": {
    "scrolled": true
   },
   "outputs": [],
   "source": [
    "print(search(\"AA-YF000148NN-00\"))"
   ]
  },
  {
   "cell_type": "code",
   "execution_count": null,
   "metadata": {},
   "outputs": [],
   "source": [
    "def replace_bracket(data):\n",
    "    value = str(data).replace('[', '').replace(']', '').replace('\\'', '')\n",
    "    if value == 'nan':\n",
    "        return \"\"\n",
    "    return value\n",
    "\n",
    "def change_datetime_to_string(data):\n",
    "    if data.size == 0:\n",
    "        return \"\"\n",
    "    elif (data == np.array([' '])):\n",
    "        return \"\"\n",
    "    elif data == \"nan\":\n",
    "        return \"\"\n",
    "    else:\n",
    "        return data[0]\n",
    "    \n",
    "#     if data == np.array([' ']):\n",
    "#         return \"\"\n",
    "#     if data == \"nan\":\n",
    "#         return \"\"\n",
    "#     else:\n",
    "#         return data[0].strftime('%m/%d/%Y')"
   ]
  },
  {
   "cell_type": "code",
   "execution_count": null,
   "metadata": {},
   "outputs": [],
   "source": [
    "# copy Shaolong's BOM info and paste into SCBOM\n",
    "def copy_and_paste_row(df1, index1, df2, index2):\n",
    "    #sourcing\n",
    "    df1.loc[index1,[\"Engineer\"]] = replace_bracket(df2.loc[index2,[\"ENGINEER\"]].values)\n",
    "    df1.loc[index1,[\"GSM\"]] = replace_bracket(df2.loc[index2,[\"GSM\"]].values)\n",
    "    df1.loc[index1,[\"GSM Manager\"]] = replace_bracket(df2.loc[index2,[\"Senior GSM\"]].values)\n",
    "    df1.loc[index1,[\"Supplier Name\"]] = replace_bracket(df2.loc[index2,[\"VP\\nSUPPLIER\\n(Name)\"]].values)\n",
    "    df1.loc[index1,[\"Sourcing Status\"]] = replace_bracket(df2.loc[index2,[\"Supplier Sourced?\"]].values)\n",
    "    df1.loc[index1,[\"Supplier Contact Person\"]] = replace_bracket(df2.loc[index2,[\"Supplier \\nContact Person\"]].values)\n",
    "    df1.loc[index1,[\"Supplier Contact Email\"]] = replace_bracket(df2.loc[index2,[\"Supplier \\nContact E-mail\"]].values)\n",
    "    df1.loc[index1,[\"Supplier Manufacturing Location\"]] = replace_bracket(df2.loc[index2,[\"Supplier Location\"]].values)\n",
    "    df1.loc[index1,[\"GTC\"]] = replace_bracket(df2.loc[index2,[\"GTC & Contract\"]].values)\n",
    "\n",
    "    \n",
    "    #Logistics\n",
    "    \n",
    "    #SQE\n",
    "    df1.loc[index1,[\"SQE\"]] = replace_bracket(df2.loc[index2,[\"SQE\"]].values)\n",
    "    df1.loc[index1,[\"Priority\"]] = replace_bracket(df2.loc[index2,[\"SQE Priority?\"]].values)\n",
    "    df1.loc[index1,[\"APQP Kick Off\"]] = replace_bracket(df2.loc[index2,[\"APQP \\nKICK OFF\"]].values)\n",
    "    df1.loc[index1,[\"APQP Status\"]] = replace_bracket(df2.loc[index2,[\"Unnamed: 33\"]].values)\n",
    "    df1.loc[index1,[\"Tooling Lead Time\"]] = replace_bracket(df2.loc[index2,[\"Tooling\\nLead time\"]].values)\n",
    "    df1.loc[index1,[\"Tooling Kick Off Date\"]] = change_datetime_to_string(df2.loc[index2,[\"Tool Kick off Plan\"]].values)\n",
    "    df1.loc[index1,[\"Tooling Completion Date\"]] = change_datetime_to_string(df2.loc[index2,[\"Hard tool Completion\"]].values)\n",
    "    df1.loc[index1,[\"Home Line\"]] = change_datetime_to_string(df2.loc[index2,[\"Home line\"]].values)\n",
    "    df1.loc[index1,[\"FTN\"]] = replace_bracket(df2.loc[index2,[\"FTN\"]].values)\n",
    "    df1.loc[index1,[\"Grain\"]] = replace_bracket(df2.loc[index2,[\"Grain\"]].values)\n",
    "    df1.loc[index1,[\"FTN\"]] = replace_bracket(df2.loc[index2,[\"FTN\"]].values)\n",
    "    df1.loc[index1,[\"AAR\"]] = replace_bracket(df2.loc[index2,[\"AAR\"]].values)\n",
    "    df1.loc[index1,[\"Run At Rate\"]] = change_datetime_to_string(df2.loc[index2,[\"Run at rate\"]].values)\n",
    "    df1.loc[index1,[\"PV Completion Date\"]] = change_datetime_to_string(df2.loc[index2,[\"PV Completion\"]].values)\n",
    "    df1.loc[index1,[\"Phase 1 PSW Date\"]] = change_datetime_to_string(df2.loc[index2,[\"Phase 1 PSW\"]].values)\n",
    "    df1.loc[index1,[\"Phase 3 PSW Date\"]] = change_datetime_to_string(df2.loc[index2,[\"Phase 3 PSW\"]].values)\n",
    "    df1.loc[index1,[\"Comments\"]] = replace_bracket(df2.loc[index2,[\"Comments\"]].values)\n",
    "    \n",
    "    \n",
    "    #log\n",
    "#   log_column_header = [\"Engineering Release Estimtae\", \"Engineering Release Actual\", \"Assembly Station\", \n",
    "#                      \"Maturity\", \"Configuration\", \"Part Creation Date\", \"Last Modified Date\", \"Part Status\", \n",
    "#                      \"Part Active\"]\n",
    "    df1.loc[index1,[\"Part Status\"]] = \"Latest revision\"\n",
    "    df1.loc[index1,[\"Part Active\"]] = \"Active\"\n",
    "        \n",
    "        \n",
    "    return df1\n",
    "    \n",
    "    \n",
    "    \n",
    "     "
   ]
  },
  {
   "cell_type": "code",
   "execution_count": null,
   "metadata": {},
   "outputs": [],
   "source": [
    "print(str(SCBOM_shaolong.loc[1000, [\"GSM\"]].values))"
   ]
  },
  {
   "cell_type": "code",
   "execution_count": null,
   "metadata": {},
   "outputs": [],
   "source": [
    "print(str(SCBOM_shaolong.loc[1000, [\"GSM\"]].values).replace('[', '').replace(']', '').replace('\\'', ''))"
   ]
  },
  {
   "cell_type": "code",
   "execution_count": null,
   "metadata": {},
   "outputs": [],
   "source": [
    "SCBOM_shaolong.loc[:, [\"Tool Kick off Plan\"]].values"
   ]
  },
  {
   "cell_type": "code",
   "execution_count": null,
   "metadata": {},
   "outputs": [],
   "source": [
    "SCBOM_shaolong.loc[41, [\"Tool Kick off Plan\"]].values[0]"
   ]
  },
  {
   "cell_type": "code",
   "execution_count": null,
   "metadata": {},
   "outputs": [],
   "source": [
    "# update SCBOM with inputs from Shaolong's BOM\n",
    "for index, row in SCBOM.iterrows():\n",
    "    #loop through EBOM by PN\n",
    "    PN = row[\"Title\"]\n",
    "    Rev = row[\"Revision\"]\n",
    "    #find out if this PN and Rev exist in Shaolong's BOM, and return the index\n",
    "    index_shaolong = search(PN)\n",
    "    #if not found\n",
    "    if (index_shaolong.values.size == 0):\n",
    "        #do nothing\n",
    "        continue\n",
    "    #if PN found, update SCBOM with Shaolong's BOM info\n",
    "    else:\n",
    "        #copy shaolong's BOM info to SCBOM\n",
    "        copy_and_paste_row(SCBOM, index, SCBOM_shaolong, index_shaolong)\n",
    "\n",
    "\n",
    "        \n",
    "            \n",
    "        \n",
    "        \n",
    "    \n",
    "    "
   ]
  },
  {
   "cell_type": "code",
   "execution_count": null,
   "metadata": {},
   "outputs": [],
   "source": [
    "SCBOM.loc[[21]]"
   ]
  },
  {
   "cell_type": "code",
   "execution_count": null,
   "metadata": {},
   "outputs": [],
   "source": [
    "save(SCBOM)"
   ]
  },
  {
   "cell_type": "markdown",
   "metadata": {},
   "source": [
    "## Create a new jupyter notebook for this step\n",
    "### Step 2: Maintain and update SCBOM using updated EBOM"
   ]
  },
  {
   "cell_type": "code",
   "execution_count": 43,
   "metadata": {},
   "outputs": [],
   "source": [
    "import pandas as pd\n",
    "import numpy as np\n",
    "import xlrd, openpyxl\n",
    "import csv, datetime"
   ]
  },
  {
   "cell_type": "code",
   "execution_count": 44,
   "metadata": {},
   "outputs": [],
   "source": [
    "#load EBOM\n",
    "def load():\n",
    "    EBOM = pd.read_excel(\"/home/yifei/Documents/BOM_tool/EBOM 8.23.18.xlsx\")\n",
    "    EBOM.columns = EBOM.columns.str.replace(\"\\(R\\)\\ \", \"\") # trim (R) away from the header\n",
    "#load Supply Chain BOM\n",
    "    SCBOM = pd.read_excel(\"/home/yifei/Documents/BOM_tool/Supply Chain BOM.xlsx\")\n",
    "    return EBOM, SCBOM\n"
   ]
  },
  {
   "cell_type": "code",
   "execution_count": 45,
   "metadata": {},
   "outputs": [],
   "source": [
    "# search PN and Rev in SCBOM\n",
    "def search(df, PN, Rev):\n",
    "    df = df.loc[(df[\"Title\"]==PN) & (df[\"Revision\"]==Rev)]\n",
    "    index = df.index\n",
    "    if (len(index)==1):\n",
    "        return index\n",
    "    else:\n",
    "        #return the first index if duplicate PN found\n",
    "        return index[0:1]\n",
    "        "
   ]
  },
  {
   "cell_type": "code",
   "execution_count": 46,
   "metadata": {},
   "outputs": [],
   "source": [
    "def replace_bracket(data):\n",
    "    value = str(data).replace('[', '').replace(']', '').replace('\\'', '')\n",
    "    if value == 'nan':\n",
    "        return \"\"\n",
    "    return value\n",
    "\n",
    "def change_datetime_to_string(data):\n",
    "    if data.size == 0:\n",
    "        return \"\"\n",
    "    elif (data == np.array([' '])):\n",
    "        return \"\"\n",
    "    elif data == \"nan\":\n",
    "        return \"\"\n",
    "    else:\n",
    "        return data[0]\n",
    "    \n",
    "#     if data == np.array([' ']):\n",
    "#         return \"\"\n",
    "#     if data == \"nan\":\n",
    "#         return \"\"\n",
    "#     else:\n",
    "#         return data[0].strftime('%m/%d/%Y')"
   ]
  },
  {
   "cell_type": "code",
   "execution_count": 47,
   "metadata": {},
   "outputs": [],
   "source": [
    "# copy Shaolong's BOM info and paste into SCBOM\n",
    "def copy_and_paste_row(df1, index1, df2, index2):\n",
    "        \n",
    "    df1.loc[index1,[\"Identifier\"]] = replace_bracket(df2.loc[index2,[\"Identifier\"]].values)\n",
    "    df1.loc[index1,[\"Title\"]] = replace_bracket(df2.loc[index2,[\"Title\"]].values)\n",
    "    df1.loc[index1,[\"Revision\"]] = replace_bracket(df2.loc[index2,[\"Revision\"]].values)\n",
    "    df1.loc[index1,[\"Description\"]] = replace_bracket(df2.loc[index2,[\"Description\"]].values)\n",
    "    df1.loc[index1,[\"QTY\"]] = replace_bracket(df2.loc[index2,[\"QTY\"]].values)\n",
    "    df1.loc[index1,[\"UOM\"]] = replace_bracket(df2.loc[index2,[\"UOM\"]].values)\n",
    "    df1.loc[index1,[\"Purchased Part Type\"]] = replace_bracket(df2.loc[index2,[\"Purchased Part Type\"]].values)\n",
    "    df1.loc[index1,[\"UOM\"]] = replace_bracket(df2.loc[index2,[\"UOM\"]].values)\n",
    "    df1.loc[index1,[\"Maturity\"]] = replace_bracket(df2.loc[index2,[\"Maturity\"]].values)\n",
    "    df1.loc[index1,[\"Part Type\"]] = replace_bracket(df2.loc[index2,[\"Part Type\"]].values)\n",
    "    df1.loc[index1,[\"System\"]] = replace_bracket(df2.loc[index2,[\"System\"]].values)\n",
    "    df1.loc[index1,[\"SubSystem\"]] = replace_bracket(df2.loc[index2,[\"SubSystem\"]].values)\n",
    "    df1.loc[index1,[\"Legacy Part Number\"]] = replace_bracket(df2.loc[index2,[\"Legacy Part Number\"]].values)\n",
    "    df1.loc[index1,[\"Legacy Part Revision\"]] = replace_bracket(df2.loc[index2,[\"Legacy Part Revision\"]].values)\n",
    "    df1.loc[index1,[\"Configuration\"]] = replace_bracket(df2.loc[index2,[\"Configuration\"]].values)\n",
    "\n",
    "    return df1"
   ]
  },
  {
   "cell_type": "code",
   "execution_count": 48,
   "metadata": {},
   "outputs": [],
   "source": [
    "# save dataframe to Excel\n",
    "def save(df):\n",
    "    #https://stackoverflow.com/questions/28837057/pandas-writing-an-excel-file-containing-unicode-illegalcharactererror\n",
    "    df = df.applymap(lambda x: x.encode('unicode_escape').\n",
    "                 decode('utf-8') if isinstance(x, str) else x)\n",
    "\n",
    "    writer = pd.ExcelWriter('Updated Supply Chain BOM.xlsx')\n",
    "    df.to_excel(writer, sheet_name=\"Updated Supply Chain BOM\", na_rep=\"\" )\n",
    "    writer.save()\n",
    "\n",
    "#     df.to_csv(\"Supply Chain BOM.csv\",quoting=csv.QUOTE_NONE, escapechar=\"\\\\\")"
   ]
  },
  {
   "cell_type": "code",
   "execution_count": 49,
   "metadata": {
    "scrolled": true
   },
   "outputs": [
    {
     "name": "stdout",
     "output_type": "stream",
     "text": [
      "looped in\n"
     ]
    }
   ],
   "source": [
    "EBOM, SCBOM = load()\n",
    "for index, row in SCBOM.iterrows():\n",
    "    PN = row[\"Title\"]\n",
    "    Rev = row[\"Revision\"]\n",
    "    index_EBOM = search(EBOM, PN, Rev)\n",
    "\n",
    "    if (index_EBOM.size == 0):\n",
    "        # if not found, deactivate the part\n",
    "        print(\"looped in\")\n",
    "        SCBOM.loc[index, [\"Part Active\"]] = \"Inactivate\"\n",
    "        SCBOM.loc[index, [\"Part Status\"]] = \"Removed\"\n",
    "        SCBOM.loc[index, [\"Last Modified Date\"]] = datetime.datetime.now()\n",
    "\n",
    "    else:\n",
    "        # if found, copy EBOM values to SCBOM and continue\n",
    "        df = copy_and_paste_row(SCBOM, index, EBOM, index_EBOM)\n",
    "\n",
    "\n",
    "\n",
    "    #check if EBOM PN quantities match SCBOM activate PN quantities\n",
    "    #if matched, do nothing, continue\n",
    "\n",
    "#     print(\"EBOM shape: \", EBOM.shape)\n",
    "#     print(\"SCBOM shape: \", SCBOM.shape)\n",
    "    #check if EBOM PN quantities match SCBOM activate PN quantities\n",
    "#     if (EBOM.shape[0] == SCBOM.shape[0]):\n",
    "#         print(\"SCBOM successfully updated\")\n",
    "#     else:\n",
    "#         #if not matched, find out new PN added to EBOM and added them to SCBOM\n",
    "#         print(\"failed\")\n",
    "\n",
    "save(SCBOM)\n"
   ]
  }
 ],
 "metadata": {
  "kernelspec": {
   "display_name": "Python [default]",
   "language": "python",
   "name": "python3"
  },
  "language_info": {
   "codemirror_mode": {
    "name": "ipython",
    "version": 3
   },
   "file_extension": ".py",
   "mimetype": "text/x-python",
   "name": "python",
   "nbconvert_exporter": "python",
   "pygments_lexer": "ipython3",
   "version": "3.7.0"
  }
 },
 "nbformat": 4,
 "nbformat_minor": 2
}
